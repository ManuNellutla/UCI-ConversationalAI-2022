{
 "cells": [
  {
   "cell_type": "code",
   "execution_count": 22,
   "metadata": {},
   "outputs": [
    {
     "name": "stderr",
     "output_type": "stream",
     "text": [
      "[nltk_data] Downloading package stopwords to\n",
      "[nltk_data]     /Users/manunellutla/nltk_data...\n",
      "[nltk_data]   Package stopwords is already up-to-date!\n",
      "[nltk_data] Error loading word_tokenize: Package 'word_tokenize' not\n",
      "[nltk_data]     found in index\n",
      "[nltk_data] Downloading package punkt to\n",
      "[nltk_data]     /Users/manunellutla/nltk_data...\n",
      "[nltk_data]   Package punkt is already up-to-date!\n"
     ]
    },
    {
     "data": {
      "text/plain": [
       "True"
      ]
     },
     "execution_count": 22,
     "metadata": {},
     "output_type": "execute_result"
    }
   ],
   "source": [
    "import nltk\n",
    "\n",
    "text = 'middle aged software employee while driving in the coastal region rescuing a woman. Same woman accompanies him, On the way he tells her about his past life from his Higher secondary (12th class) to present. Adi on his Higher secondary has a major crush on his classmate Reema (Vibha Kallianpur). He is hesitant to approach her. But his antics like caring for her and dreaming of a future with her keep him busy. Once the bubble is burst, Adi wakes up to reality and gets into an engineering college where he meets Jo (Amruta Iyengar) who comes from a well-to-do family.'\n",
    "\n",
    "nltk.download('stopwords')\n",
    "nltk.download('word_tokenize')\n",
    "nltk.download('punkt')\n",
    "\n"
   ]
  },
  {
   "cell_type": "code",
   "execution_count": 24,
   "metadata": {},
   "outputs": [],
   "source": [
    "from nltk.corpus import stopwords\n",
    "from nltk.tokenize import word_tokenize\n",
    "STOPWORDS = set(stopwords.words('english'))"
   ]
  },
  {
   "cell_type": "code",
   "execution_count": 19,
   "metadata": {},
   "outputs": [
    {
     "data": {
      "text/plain": [
       "['middle',\n",
       " 'aged',\n",
       " 'software',\n",
       " 'employee',\n",
       " 'while',\n",
       " 'driving',\n",
       " 'in',\n",
       " 'the',\n",
       " 'coastal',\n",
       " 'region',\n",
       " 'rescuing',\n",
       " 'a',\n",
       " 'woman',\n",
       " '.',\n",
       " 'Same',\n",
       " 'woman',\n",
       " 'accompanies',\n",
       " 'him',\n",
       " ',',\n",
       " 'On',\n",
       " 'the',\n",
       " 'way',\n",
       " 'he',\n",
       " 'tells',\n",
       " 'her',\n",
       " 'about',\n",
       " 'his',\n",
       " 'past',\n",
       " 'life',\n",
       " 'from',\n",
       " 'his',\n",
       " 'Higher',\n",
       " 'secondary',\n",
       " '(',\n",
       " '12th',\n",
       " 'class',\n",
       " ')',\n",
       " 'to',\n",
       " 'present',\n",
       " '.',\n",
       " 'Adi',\n",
       " 'on',\n",
       " 'his',\n",
       " 'Higher',\n",
       " 'secondary',\n",
       " 'has',\n",
       " 'a',\n",
       " 'major',\n",
       " 'crush',\n",
       " 'on',\n",
       " 'his',\n",
       " 'classmate',\n",
       " 'Reema',\n",
       " '(',\n",
       " 'Vibha',\n",
       " 'Kallianpur',\n",
       " ')',\n",
       " '.',\n",
       " 'He',\n",
       " 'is',\n",
       " 'hesitant',\n",
       " 'to',\n",
       " 'approach',\n",
       " 'her',\n",
       " '.',\n",
       " 'But',\n",
       " 'his',\n",
       " 'antics',\n",
       " 'like',\n",
       " 'caring',\n",
       " 'for',\n",
       " 'her',\n",
       " 'and',\n",
       " 'dreaming',\n",
       " 'of',\n",
       " 'a',\n",
       " 'future',\n",
       " 'with',\n",
       " 'her',\n",
       " 'keep',\n",
       " 'him',\n",
       " 'busy',\n",
       " '.',\n",
       " 'Once',\n",
       " 'the',\n",
       " 'bubble',\n",
       " 'is',\n",
       " 'burst',\n",
       " ',',\n",
       " 'Adi',\n",
       " 'wakes',\n",
       " 'up',\n",
       " 'to',\n",
       " 'reality',\n",
       " 'and',\n",
       " 'gets',\n",
       " 'into',\n",
       " 'an',\n",
       " 'engineering',\n",
       " 'college',\n",
       " 'where',\n",
       " 'he',\n",
       " 'meets',\n",
       " 'Jo',\n",
       " '(',\n",
       " 'Amruta',\n",
       " 'Iyengar',\n",
       " ')',\n",
       " 'who',\n",
       " 'comes',\n",
       " 'from',\n",
       " 'a',\n",
       " 'well-to-do',\n",
       " 'family',\n",
       " '.']"
      ]
     },
     "execution_count": 19,
     "metadata": {},
     "output_type": "execute_result"
    }
   ],
   "source": [
    "# Tokenization\n",
    "tokens = word_tokenize(text)\n",
    "tokens"
   ]
  },
  {
   "cell_type": "code",
   "execution_count": 20,
   "metadata": {},
   "outputs": [
    {
     "data": {
      "text/plain": [
       "['middle',\n",
       " 'aged',\n",
       " 'software',\n",
       " 'employee',\n",
       " 'driving',\n",
       " 'coastal',\n",
       " 'region',\n",
       " 'rescuing',\n",
       " 'woman',\n",
       " '.',\n",
       " 'Same',\n",
       " 'woman',\n",
       " 'accompanies',\n",
       " ',',\n",
       " 'On',\n",
       " 'way',\n",
       " 'tells',\n",
       " 'past',\n",
       " 'life',\n",
       " 'Higher',\n",
       " 'secondary',\n",
       " '(',\n",
       " '12th',\n",
       " 'class',\n",
       " ')',\n",
       " 'present',\n",
       " '.',\n",
       " 'Adi',\n",
       " 'Higher',\n",
       " 'secondary',\n",
       " 'major',\n",
       " 'crush',\n",
       " 'classmate',\n",
       " 'Reema',\n",
       " '(',\n",
       " 'Vibha',\n",
       " 'Kallianpur',\n",
       " ')',\n",
       " '.',\n",
       " 'He',\n",
       " 'hesitant',\n",
       " 'approach',\n",
       " '.',\n",
       " 'But',\n",
       " 'antics',\n",
       " 'like',\n",
       " 'caring',\n",
       " 'dreaming',\n",
       " 'future',\n",
       " 'keep',\n",
       " 'busy',\n",
       " '.',\n",
       " 'Once',\n",
       " 'bubble',\n",
       " 'burst',\n",
       " ',',\n",
       " 'Adi',\n",
       " 'wakes',\n",
       " 'reality',\n",
       " 'gets',\n",
       " 'engineering',\n",
       " 'college',\n",
       " 'meets',\n",
       " 'Jo',\n",
       " '(',\n",
       " 'Amruta',\n",
       " 'Iyengar',\n",
       " ')',\n",
       " 'comes',\n",
       " 'well-to-do',\n",
       " 'family',\n",
       " '.']"
      ]
     },
     "execution_count": 20,
     "metadata": {},
     "output_type": "execute_result"
    }
   ],
   "source": [
    "# Remove Stopping Words\n",
    "text_no_stopwords = [w for w in tokens if not w in STOPWORDS] \n",
    "text_no_stopwords"
   ]
  },
  {
   "cell_type": "code",
   "execution_count": 21,
   "metadata": {},
   "outputs": [
    {
     "data": {
      "text/plain": [
       "['middl',\n",
       " 'age',\n",
       " 'softwar',\n",
       " 'employe',\n",
       " 'drive',\n",
       " 'coastal',\n",
       " 'region',\n",
       " 'rescu',\n",
       " 'woman',\n",
       " '.',\n",
       " 'same',\n",
       " 'woman',\n",
       " 'accompani',\n",
       " ',',\n",
       " 'On',\n",
       " 'way',\n",
       " 'tell',\n",
       " 'past',\n",
       " 'life',\n",
       " 'higher',\n",
       " 'secondari',\n",
       " '(',\n",
       " '12th',\n",
       " 'class',\n",
       " ')',\n",
       " 'present',\n",
       " '.',\n",
       " 'adi',\n",
       " 'higher',\n",
       " 'secondari',\n",
       " 'major',\n",
       " 'crush',\n",
       " 'classmat',\n",
       " 'reema',\n",
       " '(',\n",
       " 'vibha',\n",
       " 'kallianpur',\n",
       " ')',\n",
       " '.',\n",
       " 'He',\n",
       " 'hesit',\n",
       " 'approach',\n",
       " '.',\n",
       " 'but',\n",
       " 'antic',\n",
       " 'like',\n",
       " 'care',\n",
       " 'dream',\n",
       " 'futur',\n",
       " 'keep',\n",
       " 'busi',\n",
       " '.',\n",
       " 'onc',\n",
       " 'bubbl',\n",
       " 'burst',\n",
       " ',',\n",
       " 'adi',\n",
       " 'wake',\n",
       " 'realiti',\n",
       " 'get',\n",
       " 'engin',\n",
       " 'colleg',\n",
       " 'meet',\n",
       " 'Jo',\n",
       " '(',\n",
       " 'amruta',\n",
       " 'iyengar',\n",
       " ')',\n",
       " 'come',\n",
       " 'well-to-do',\n",
       " 'famili',\n",
       " '.']"
      ]
     },
     "execution_count": 21,
     "metadata": {},
     "output_type": "execute_result"
    }
   ],
   "source": [
    "# Stemming\n",
    "from nltk.stem import PorterStemmer\n",
    "text_stemmed = [PorterStemmer().stem(w) for w in text_no_stopwords]\n",
    "text_stemmed\n"
   ]
  },
  {
   "cell_type": "code",
   "execution_count": 16,
   "metadata": {},
   "outputs": [
    {
     "name": "stderr",
     "output_type": "stream",
     "text": [
      "[nltk_data] Downloading package wordnet to\n",
      "[nltk_data]     /Users/manunellutla/nltk_data...\n",
      "[nltk_data]   Unzipping corpora/wordnet.zip.\n"
     ]
    },
    {
     "data": {
      "text/plain": [
       "['middle',\n",
       " 'aged',\n",
       " 'software',\n",
       " 'employee',\n",
       " 'driving',\n",
       " 'coastal',\n",
       " 'region',\n",
       " 'rescuing',\n",
       " 'woman.Same',\n",
       " 'woman',\n",
       " 'accompanies',\n",
       " ',',\n",
       " 'On',\n",
       " 'way',\n",
       " 'tell',\n",
       " 'past',\n",
       " 'life',\n",
       " 'Higher',\n",
       " 'secondary',\n",
       " '(',\n",
       " '12th',\n",
       " 'class',\n",
       " ')',\n",
       " 'present',\n",
       " '.',\n",
       " 'Adi',\n",
       " 'Higher',\n",
       " 'secondary',\n",
       " 'major',\n",
       " 'crush',\n",
       " 'classmate',\n",
       " 'Reema',\n",
       " '(',\n",
       " 'Vibha',\n",
       " 'Kallianpur',\n",
       " ')',\n",
       " '.',\n",
       " 'He',\n",
       " 'hesitant',\n",
       " 'approach',\n",
       " '.',\n",
       " 'But',\n",
       " 'antic',\n",
       " 'like',\n",
       " 'caring',\n",
       " 'dreaming',\n",
       " 'future',\n",
       " 'keep',\n",
       " 'busy',\n",
       " '.',\n",
       " 'Once',\n",
       " 'bubble',\n",
       " 'burst',\n",
       " ',',\n",
       " 'Adi',\n",
       " 'wake',\n",
       " 'reality',\n",
       " 'get',\n",
       " 'engineering',\n",
       " 'college',\n",
       " 'meet',\n",
       " 'Jo',\n",
       " '(',\n",
       " 'Amruta',\n",
       " 'Iyengar',\n",
       " ')',\n",
       " 'come',\n",
       " 'well-to-do',\n",
       " 'family',\n",
       " '.']"
      ]
     },
     "execution_count": 16,
     "metadata": {},
     "output_type": "execute_result"
    }
   ],
   "source": [
    "# Lemmatization\n",
    "nltk.download('wordnet')\n",
    "wn = nltk.WordNetLemmatizer()\n",
    "text_lemma = [wn.lemmatize(w) for w in text_no_stopwords]\n",
    "text_lemma"
   ]
  },
  {
   "cell_type": "code",
   "execution_count": 25,
   "metadata": {},
   "outputs": [],
   "source": [
    "# Count Vectorization\n",
    "from sklearn.feature_extraction.text import CountVectorizer\n",
    "vectorizer = CountVectorizer()"
   ]
  },
  {
   "cell_type": "code",
   "execution_count": 26,
   "metadata": {},
   "outputs": [],
   "source": [
    "text1 = ['Data science is fun.', 'Data science helps us to make data driven decisions.']"
   ]
  },
  {
   "cell_type": "code",
   "execution_count": 27,
   "metadata": {},
   "outputs": [
    {
     "data": {
      "text/plain": [
       "CountVectorizer(analyzer='word', binary=False, decode_error='strict',\n",
       "                dtype=<class 'numpy.int64'>, encoding='utf-8', input='content',\n",
       "                lowercase=True, max_df=1.0, max_features=None, min_df=1,\n",
       "                ngram_range=(1, 1), preprocessor=None, stop_words=None,\n",
       "                strip_accents=None, token_pattern='(?u)\\\\b\\\\w\\\\w+\\\\b',\n",
       "                tokenizer=None, vocabulary=None)"
      ]
     },
     "execution_count": 27,
     "metadata": {},
     "output_type": "execute_result"
    }
   ],
   "source": [
    "vectorizer.fit(text1)"
   ]
  },
  {
   "cell_type": "code",
   "execution_count": 28,
   "metadata": {},
   "outputs": [
    {
     "name": "stdout",
     "output_type": "stream",
     "text": [
      "Vocabulary: \n",
      "{'data': 0, 'science': 7, 'is': 5, 'fun': 3, 'helps': 4, 'us': 9, 'to': 8, 'make': 6, 'driven': 2, 'decisions': 1}\n"
     ]
    }
   ],
   "source": [
    "print('Vocabulary: ')\n",
    "print(vectorizer.vocabulary_)"
   ]
  },
  {
   "cell_type": "code",
   "execution_count": 31,
   "metadata": {},
   "outputs": [
    {
     "name": "stdout",
     "output_type": "stream",
     "text": [
      "Full vector: \n",
      "[[1 0 0 1 0 1 0 1 0 0]\n",
      " [2 1 1 0 1 0 1 1 1 1]]\n"
     ]
    }
   ],
   "source": [
    "vector = vectorizer.transform(text1)\n",
    "print('Full vector: ')\n",
    "print(vector.toarray())"
   ]
  },
  {
   "cell_type": "code",
   "execution_count": 32,
   "metadata": {},
   "outputs": [],
   "source": [
    "# TFIDF Vectorization\n",
    "from sklearn.feature_extraction.text import TfidfVectorizer\n",
    "tfidf = TfidfVectorizer()"
   ]
  },
  {
   "cell_type": "code",
   "execution_count": 33,
   "metadata": {},
   "outputs": [
    {
     "name": "stdout",
     "output_type": "stream",
     "text": [
      "Vocabulary: \n",
      "{'data': 0, 'science': 7, 'is': 5, 'fun': 3, 'helps': 4, 'us': 9, 'to': 8, 'make': 6, 'driven': 2, 'decisions': 1}\n"
     ]
    }
   ],
   "source": [
    "tfidf.fit(text1)\n",
    "print('Vocabulary: ')\n",
    "print(tfidf.vocabulary_)"
   ]
  },
  {
   "cell_type": "code",
   "execution_count": 34,
   "metadata": {},
   "outputs": [
    {
     "name": "stdout",
     "output_type": "stream",
     "text": [
      "Full vector: \n",
      "[[0.40993715 0.         0.         0.57615236 0.         0.57615236\n",
      "  0.         0.40993715 0.         0.        ]\n",
      " [0.48719673 0.342369   0.342369   0.         0.342369   0.\n",
      "  0.342369   0.24359836 0.342369   0.342369  ]]\n"
     ]
    }
   ],
   "source": [
    "vector_tfidf = tfidf.transform(text1)\n",
    "print('Full vector: ')\n",
    "print(vector_tfidf.toarray())"
   ]
  },
  {
   "cell_type": "code",
   "execution_count": null,
   "metadata": {},
   "outputs": [],
   "source": []
  }
 ],
 "metadata": {
  "kernelspec": {
   "display_name": "Python 3",
   "language": "python",
   "name": "python3"
  },
  "language_info": {
   "codemirror_mode": {
    "name": "ipython",
    "version": 3
   },
   "file_extension": ".py",
   "mimetype": "text/x-python",
   "name": "python",
   "nbconvert_exporter": "python",
   "pygments_lexer": "ipython3",
   "version": "3.7.7"
  }
 },
 "nbformat": 4,
 "nbformat_minor": 4
}
