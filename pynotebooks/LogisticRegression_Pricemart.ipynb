{
 "cells": [
  {
   "cell_type": "markdown",
   "metadata": {},
   "source": [
    "\n",
    "# 2020-0629 C6 Data Science Pipeline and Critical Thinking\n",
    "\n",
    "=====\n",
    "\n",
    "**Instructors**: Srikant Datar, Hanspeter Pfister, Joe Blitzstein <br/>\n",
    "**Author**: Rashmi Banthia\n",
    "\n",
    "=====\n",
    "\n",
    "*Rashmi Banthia*\n"
   ]
  },
  {
   "cell_type": "code",
   "execution_count": 1,
   "metadata": {},
   "outputs": [],
   "source": [
    "from sklearn.linear_model import LogisticRegression\n",
    "import pandas as pd\n",
    "import numpy as np\n",
    "from sklearn.model_selection import train_test_split\n",
    "from sklearn.metrics import accuracy_score, log_loss\n",
    "\n",
    "from sklearn.metrics import confusion_matrix, roc_auc_score\n",
    "from sklearn.metrics import plot_confusion_matrix\n",
    "from sklearn.metrics import plot_roc_curve\n",
    "from matplotlib import pyplot as plt\n",
    "%matplotlib inline"
   ]
  },
  {
   "cell_type": "code",
   "execution_count": 2,
   "metadata": {},
   "outputs": [
    {
     "data": {
      "text/plain": [
       "(10000, 21)"
      ]
     },
     "execution_count": 2,
     "metadata": {},
     "output_type": "execute_result"
    }
   ],
   "source": [
    "#Read the dataset\n",
    "df = pd.read_csv('pricemart_500_9500_hbap.csv')\n",
    "df.shape"
   ]
  },
  {
   "cell_type": "code",
   "execution_count": 3,
   "metadata": {},
   "outputs": [
    {
     "data": {
      "text/html": [
       "<div>\n",
       "<style scoped>\n",
       "    .dataframe tbody tr th:only-of-type {\n",
       "        vertical-align: middle;\n",
       "    }\n",
       "\n",
       "    .dataframe tbody tr th {\n",
       "        vertical-align: top;\n",
       "    }\n",
       "\n",
       "    .dataframe thead th {\n",
       "        text-align: right;\n",
       "    }\n",
       "</style>\n",
       "<table border=\"1\" class=\"dataframe\">\n",
       "  <thead>\n",
       "    <tr style=\"text-align: right;\">\n",
       "      <th></th>\n",
       "      <th>Apt</th>\n",
       "      <th>Birth Control</th>\n",
       "      <th>Body Pillow</th>\n",
       "      <th>Cigarettes</th>\n",
       "      <th>Female</th>\n",
       "      <th>Feminine Hygiene</th>\n",
       "      <th>Folic Acid</th>\n",
       "      <th>Ginger Ale</th>\n",
       "      <th>Home</th>\n",
       "      <th>Ice Cream</th>\n",
       "      <th>...</th>\n",
       "      <th>Maternity Clothes</th>\n",
       "      <th>PREGNANT</th>\n",
       "      <th>Pregnancy Test</th>\n",
       "      <th>Prenatal Vitamins</th>\n",
       "      <th>Prenatal Yoga</th>\n",
       "      <th>Sea Bands</th>\n",
       "      <th>Smoking Cessation</th>\n",
       "      <th>Stopped buying ciggies</th>\n",
       "      <th>Stopped buying wine</th>\n",
       "      <th>Wine</th>\n",
       "    </tr>\n",
       "  </thead>\n",
       "  <tbody>\n",
       "    <tr>\n",
       "      <th>0</th>\n",
       "      <td>1</td>\n",
       "      <td>0</td>\n",
       "      <td>0</td>\n",
       "      <td>0</td>\n",
       "      <td>0</td>\n",
       "      <td>0</td>\n",
       "      <td>0</td>\n",
       "      <td>0</td>\n",
       "      <td>0</td>\n",
       "      <td>37</td>\n",
       "      <td>...</td>\n",
       "      <td>0</td>\n",
       "      <td>1</td>\n",
       "      <td>1</td>\n",
       "      <td>26</td>\n",
       "      <td>0</td>\n",
       "      <td>0</td>\n",
       "      <td>0</td>\n",
       "      <td>0</td>\n",
       "      <td>0</td>\n",
       "      <td>0</td>\n",
       "    </tr>\n",
       "    <tr>\n",
       "      <th>1</th>\n",
       "      <td>0</td>\n",
       "      <td>0</td>\n",
       "      <td>0</td>\n",
       "      <td>0</td>\n",
       "      <td>0</td>\n",
       "      <td>0</td>\n",
       "      <td>0</td>\n",
       "      <td>0</td>\n",
       "      <td>1</td>\n",
       "      <td>12</td>\n",
       "      <td>...</td>\n",
       "      <td>0</td>\n",
       "      <td>1</td>\n",
       "      <td>1</td>\n",
       "      <td>32</td>\n",
       "      <td>0</td>\n",
       "      <td>0</td>\n",
       "      <td>0</td>\n",
       "      <td>0</td>\n",
       "      <td>0</td>\n",
       "      <td>0</td>\n",
       "    </tr>\n",
       "    <tr>\n",
       "      <th>2</th>\n",
       "      <td>0</td>\n",
       "      <td>0</td>\n",
       "      <td>0</td>\n",
       "      <td>0</td>\n",
       "      <td>0</td>\n",
       "      <td>0</td>\n",
       "      <td>0</td>\n",
       "      <td>0</td>\n",
       "      <td>1</td>\n",
       "      <td>72</td>\n",
       "      <td>...</td>\n",
       "      <td>0</td>\n",
       "      <td>1</td>\n",
       "      <td>1</td>\n",
       "      <td>39</td>\n",
       "      <td>0</td>\n",
       "      <td>1</td>\n",
       "      <td>0</td>\n",
       "      <td>0</td>\n",
       "      <td>0</td>\n",
       "      <td>0</td>\n",
       "    </tr>\n",
       "    <tr>\n",
       "      <th>3</th>\n",
       "      <td>0</td>\n",
       "      <td>0</td>\n",
       "      <td>0</td>\n",
       "      <td>0</td>\n",
       "      <td>0</td>\n",
       "      <td>0</td>\n",
       "      <td>0</td>\n",
       "      <td>1</td>\n",
       "      <td>1</td>\n",
       "      <td>9</td>\n",
       "      <td>...</td>\n",
       "      <td>0</td>\n",
       "      <td>1</td>\n",
       "      <td>0</td>\n",
       "      <td>33</td>\n",
       "      <td>0</td>\n",
       "      <td>0</td>\n",
       "      <td>0</td>\n",
       "      <td>0</td>\n",
       "      <td>0</td>\n",
       "      <td>0</td>\n",
       "    </tr>\n",
       "    <tr>\n",
       "      <th>4</th>\n",
       "      <td>1</td>\n",
       "      <td>0</td>\n",
       "      <td>0</td>\n",
       "      <td>0</td>\n",
       "      <td>1</td>\n",
       "      <td>0</td>\n",
       "      <td>0</td>\n",
       "      <td>0</td>\n",
       "      <td>0</td>\n",
       "      <td>75</td>\n",
       "      <td>...</td>\n",
       "      <td>0</td>\n",
       "      <td>1</td>\n",
       "      <td>0</td>\n",
       "      <td>25</td>\n",
       "      <td>1</td>\n",
       "      <td>0</td>\n",
       "      <td>0</td>\n",
       "      <td>0</td>\n",
       "      <td>1</td>\n",
       "      <td>0</td>\n",
       "    </tr>\n",
       "  </tbody>\n",
       "</table>\n",
       "<p>5 rows × 21 columns</p>\n",
       "</div>"
      ],
      "text/plain": [
       "   Apt  Birth Control  Body Pillow  Cigarettes  Female  Feminine Hygiene  \\\n",
       "0    1              0            0           0       0                 0   \n",
       "1    0              0            0           0       0                 0   \n",
       "2    0              0            0           0       0                 0   \n",
       "3    0              0            0           0       0                 0   \n",
       "4    1              0            0           0       1                 0   \n",
       "\n",
       "   Folic Acid  Ginger Ale  Home  Ice Cream  ...  Maternity Clothes  PREGNANT  \\\n",
       "0           0           0     0         37  ...                  0         1   \n",
       "1           0           0     1         12  ...                  0         1   \n",
       "2           0           0     1         72  ...                  0         1   \n",
       "3           0           1     1          9  ...                  0         1   \n",
       "4           0           0     0         75  ...                  0         1   \n",
       "\n",
       "   Pregnancy Test  Prenatal Vitamins  Prenatal Yoga  Sea Bands  \\\n",
       "0               1                 26              0          0   \n",
       "1               1                 32              0          0   \n",
       "2               1                 39              0          1   \n",
       "3               0                 33              0          0   \n",
       "4               0                 25              1          0   \n",
       "\n",
       "   Smoking Cessation  Stopped buying ciggies  Stopped buying wine  Wine  \n",
       "0                  0                       0                    0     0  \n",
       "1                  0                       0                    0     0  \n",
       "2                  0                       0                    0     0  \n",
       "3                  0                       0                    0     0  \n",
       "4                  0                       0                    1     0  \n",
       "\n",
       "[5 rows x 21 columns]"
      ]
     },
     "execution_count": 3,
     "metadata": {},
     "output_type": "execute_result"
    }
   ],
   "source": [
    "df.head()"
   ]
  },
  {
   "cell_type": "code",
   "execution_count": 4,
   "metadata": {},
   "outputs": [
    {
     "data": {
      "text/plain": [
       "Index(['Apt', 'Birth Control', 'Body Pillow', 'Cigarettes', 'Female',\n",
       "       'Feminine Hygiene', 'Folic Acid', 'Ginger Ale', 'Home', 'Ice Cream',\n",
       "       'Male', 'Maternity Clothes', 'PREGNANT', 'Pregnancy Test',\n",
       "       'Prenatal Vitamins', 'Prenatal Yoga', 'Sea Bands', 'Smoking Cessation',\n",
       "       'Stopped buying ciggies', 'Stopped buying wine', 'Wine'],\n",
       "      dtype='object')"
      ]
     },
     "execution_count": 4,
     "metadata": {},
     "output_type": "execute_result"
    }
   ],
   "source": [
    "df.columns #features + target in the dataset"
   ]
  },
  {
   "cell_type": "code",
   "execution_count": 5,
   "metadata": {},
   "outputs": [],
   "source": [
    "predictors = ['Apt', 'Birth Control', 'Body Pillow', 'Cigarettes', 'Female',\n",
    "       'Feminine Hygiene', 'Folic Acid', 'Ginger Ale', 'Home', 'Ice Cream',\n",
    "       'Male', 'Maternity Clothes',  'Pregnancy Test',\n",
    "       'Prenatal Vitamins', 'Prenatal Yoga', 'Sea Bands', 'Smoking Cessation',\n",
    "       'Stopped buying ciggies', 'Stopped buying wine', 'Wine']\n",
    "target = 'PREGNANT'"
   ]
  },
  {
   "cell_type": "code",
   "execution_count": 17,
   "metadata": {},
   "outputs": [],
   "source": [
    "#Splitting the dataset into 80-20 i.e. 80% in training and 20% for validation\n",
    "X_train, X_test, y_train, y_test = train_test_split(df[predictors],df.PREGNANT, \n",
    "                                                    test_size = 0.2, \n",
    "                                                    stratify = df.PREGNANT)\n"
   ]
  },
  {
   "cell_type": "code",
   "execution_count": 7,
   "metadata": {},
   "outputs": [
    {
     "data": {
      "text/plain": [
       "((8000, 20), (2000, 20))"
      ]
     },
     "execution_count": 7,
     "metadata": {},
     "output_type": "execute_result"
    }
   ],
   "source": [
    "X_train.shape, X_test.shape #displays number of rows and columns in dataset"
   ]
  },
  {
   "cell_type": "code",
   "execution_count": 8,
   "metadata": {},
   "outputs": [
    {
     "data": {
      "text/plain": [
       "0    0.95\n",
       "1    0.05\n",
       "Name: PREGNANT, dtype: float64"
      ]
     },
     "execution_count": 8,
     "metadata": {},
     "output_type": "execute_result"
    }
   ],
   "source": [
    "y_train.value_counts(normalize=True) #Ratio of Pregnant vs. Non Pregnant  in the training data"
   ]
  },
  {
   "cell_type": "code",
   "execution_count": 9,
   "metadata": {},
   "outputs": [
    {
     "data": {
      "text/plain": [
       "0    0.95\n",
       "1    0.05\n",
       "Name: PREGNANT, dtype: float64"
      ]
     },
     "execution_count": 9,
     "metadata": {},
     "output_type": "execute_result"
    }
   ],
   "source": [
    "y_test.value_counts(normalize=True) #Ratio of Pregnant vs. Non Pregnant  in the test data"
   ]
  },
  {
   "cell_type": "code",
   "execution_count": 10,
   "metadata": {},
   "outputs": [
    {
     "data": {
      "text/plain": [
       "0    0.95\n",
       "1    0.05\n",
       "Name: PREGNANT, dtype: float64"
      ]
     },
     "execution_count": 10,
     "metadata": {},
     "output_type": "execute_result"
    }
   ],
   "source": [
    "df.PREGNANT.value_counts(normalize=True) #Ratio of Pregnant vs. Non Pregnant  in the full dataset."
   ]
  },
  {
   "cell_type": "code",
   "execution_count": 11,
   "metadata": {},
   "outputs": [
    {
     "name": "stdout",
     "output_type": "stream",
     "text": [
      "0.9595\n"
     ]
    },
    {
     "data": {
      "text/plain": [
       "0.13564387166411698"
      ]
     },
     "execution_count": 11,
     "metadata": {},
     "output_type": "execute_result"
    }
   ],
   "source": [
    "#Fit Logistic Regression model\n",
    "clf = LogisticRegression(random_state=0, C=10000, max_iter=500, solver='lbfgs').fit(X_train, y_train)\n",
    "preds = clf.predict_proba(X_test)[:,1]\n",
    "print(accuracy_score(y_test, preds>0.5)) \n",
    "log_loss(y_test,preds)"
   ]
  },
  {
   "cell_type": "markdown",
   "metadata": {},
   "source": [
    "### 5 fold CV"
   ]
  },
  {
   "cell_type": "code",
   "execution_count": 12,
   "metadata": {},
   "outputs": [],
   "source": [
    "import numpy as np\n",
    "from sklearn.model_selection import StratifiedKFold"
   ]
  },
  {
   "cell_type": "code",
   "execution_count": 18,
   "metadata": {},
   "outputs": [
    {
     "name": "stdout",
     "output_type": "stream",
     "text": [
      "C = 0.01  \tLogloss 5 fold: 0.1636178272252892\n",
      "C = 1  \tLogloss 5 fold: 0.13009100979968438\n",
      "C = 1000  \tLogloss 5 fold: 0.13002314534988807\n",
      "C = 10000  \tLogloss 5 fold: 0.13000928212021326\n"
     ]
    }
   ],
   "source": [
    "# 5 fold cross validation - No holdout set \n",
    "skf = StratifiedKFold(n_splits=5,random_state=101, shuffle = True)\n",
    "skf.get_n_splits(X_train, y_train)\n",
    "\n",
    "\n",
    "for cvalue in [0.01, 1,1000,10000] :\n",
    "    avg_log_loss = [] \n",
    "    for train_index, test_index in skf.split(X_train, y_train):\n",
    "\n",
    "        X_train_fold, X_test_fold = X_train.iloc[train_index,:], X_train.iloc[test_index,:]\n",
    "        y_train_fold, y_test_fold = y_train.iloc[train_index], y_train.iloc[test_index]\n",
    "\n",
    "        clf = LogisticRegression(random_state=0, C=cvalue, max_iter=500, solver='lbfgs').fit(X_train_fold, y_train_fold)\n",
    "        preds = clf.predict_proba(X_test_fold)[:,1]\n",
    "        #print(log_loss(y_test_fold,preds))\n",
    "        avg_log_loss.append(log_loss(y_test_fold,preds))\n",
    "    \n",
    "    print(\"C =\",cvalue, \" \\tLogloss 5 fold:\", np.mean(avg_log_loss))\n"
   ]
  },
  {
   "cell_type": "markdown",
   "metadata": {},
   "source": [
    "#C=1 or C=1000 or C=10000 are all comparable"
   ]
  },
  {
   "cell_type": "code",
   "execution_count": 20,
   "metadata": {},
   "outputs": [
    {
     "name": "stdout",
     "output_type": "stream",
     "text": [
      "0.9605\n"
     ]
    },
    {
     "data": {
      "text/plain": [
       "0.13406938026290627"
      ]
     },
     "execution_count": 20,
     "metadata": {},
     "output_type": "execute_result"
    }
   ],
   "source": [
    "clf = LogisticRegression(random_state=0, C=1, max_iter=500, solver='lbfgs').fit(X_train, y_train)\n",
    "preds = clf.predict_proba(X_test)[:,1]\n",
    "print(accuracy_score(y_test, preds>0.5))\n",
    "log_loss(y_test,preds)"
   ]
  },
  {
   "cell_type": "code",
   "execution_count": 21,
   "metadata": {},
   "outputs": [
    {
     "name": "stdout",
     "output_type": "stream",
     "text": [
      "Confusion matrix, without normalization\n",
      "[[1897    3]\n",
      " [  76   24]]\n",
      "Normalized confusion matrix\n",
      "[[0.99842105 0.00157895]\n",
      " [0.76       0.24      ]]\n"
     ]
    },
    {
     "data": {
      "image/png": "[encoded data removed]",
      "text/plain": [
       "<Figure size 432x288 with 2 Axes>"
      ]
     },
     "metadata": {
      "needs_background": "light"
     },
     "output_type": "display_data"
    },
    {
     "data": {
      "image/png": "[encoded data removed]",
      "text/plain": [
       "<Figure size 432x288 with 2 Axes>"
      ]
     },
     "metadata": {
      "needs_background": "light"
     },
     "output_type": "display_data"
    }
   ],
   "source": [
    "# Plot non-normalized confusion matrix\n",
    "titles_options = [(\"Confusion matrix, without normalization\", None),\n",
    "                  (\"Normalized confusion matrix\", 'true')]\n",
    "for title, normalize in titles_options:\n",
    "    disp = plot_confusion_matrix(clf, X_test, y_test,\n",
    "                                 display_labels=['NonPregnant','Pregnant'],\n",
    "                                 cmap=plt.cm.Blues,\n",
    "                                 normalize=normalize)\n",
    "    disp.ax_.set_title(title)\n",
    "\n",
    "    print(title)\n",
    "    print(disp.confusion_matrix)\n"
   ]
  },
  {
   "cell_type": "code",
   "execution_count": 22,
   "metadata": {},
   "outputs": [
    {
     "data": {
      "image/png": "[encoded data removed]",
      "text/plain": [
       "<Figure size 432x288 with 1 Axes>"
      ]
     },
     "metadata": {
      "needs_background": "light"
     },
     "output_type": "display_data"
    }
   ],
   "source": [
    "plot_roc_curve(clf, X_test, y_test);   \n",
    "  "
   ]
  },
  {
   "cell_type": "code",
   "execution_count": null,
   "metadata": {},
   "outputs": [],
   "source": []
  }
 ],
 "metadata": {
  "kernelspec": {
   "display_name": "Python 3",
   "language": "python",
   "name": "python3"
  },
  "language_info": {
   "codemirror_mode": {
    "name": "ipython",
    "version": 3
   },
   "file_extension": ".py",
   "mimetype": "text/x-python",
   "name": "python",
   "nbconvert_exporter": "python",
   "pygments_lexer": "ipython3",
   "version": "3.7.7"
  }
 },
 "nbformat": 4,
 "nbformat_minor": 2
}
